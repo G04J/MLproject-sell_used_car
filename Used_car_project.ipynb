{
 "cells": [
  {
   "cell_type": "markdown",
   "id": "827911c1-97a4-4c9b-a784-98a961747e27",
   "metadata": {
    "tags": []
   },
   "source": [
    "# Importing Libraries"
   ]
  },
  {
   "cell_type": "code",
   "execution_count": 11,
   "id": "36f4b743-c847-4924-963c-5c278571e824",
   "metadata": {},
   "outputs": [],
   "source": [
    "import pandas as pd \n",
    "import numpy as np \n",
    "import matplotlib.pyplot as plt \n",
    "import seaborn as sns"
   ]
  },
  {
   "cell_type": "markdown",
   "id": "9c426307-dac6-4f57-8295-fa1b9397de79",
   "metadata": {},
   "source": [
    "# Reading dataset"
   ]
  },
  {
   "cell_type": "code",
   "execution_count": 12,
   "id": "ac9ebcf7-92f1-4a38-a4c5-f01342d329d6",
   "metadata": {},
   "outputs": [],
   "source": [
    "df = pd.read_csv('used_cars_data.csv')"
   ]
  },
  {
   "cell_type": "markdown",
   "id": "6847908e-2520-453a-b488-da4cb2a8c3c7",
   "metadata": {},
   "source": [
    "# Data pre-processing"
   ]
  },
  {
   "cell_type": "code",
   "execution_count": 13,
   "id": "ce493074-d8ab-4f09-b68c-2a95512e80a2",
   "metadata": {},
   "outputs": [
    {
     "name": "stdout",
     "output_type": "stream",
     "text": [
      "<class 'pandas.core.frame.DataFrame'>\n",
      "RangeIndex: 7253 entries, 0 to 7252\n",
      "Data columns (total 14 columns):\n",
      " #   Column             Non-Null Count  Dtype  \n",
      "---  ------             --------------  -----  \n",
      " 0   S.No.              7253 non-null   int64  \n",
      " 1   Name               7253 non-null   object \n",
      " 2   Location           7253 non-null   object \n",
      " 3   Year               7253 non-null   int64  \n",
      " 4   Kilometers_Driven  7253 non-null   int64  \n",
      " 5   Fuel_Type          7253 non-null   object \n",
      " 6   Transmission       7253 non-null   object \n",
      " 7   Owner_Type         7253 non-null   object \n",
      " 8   Mileage            7251 non-null   object \n",
      " 9   Engine             7207 non-null   object \n",
      " 10  Power              7207 non-null   object \n",
      " 11  Seats              7200 non-null   float64\n",
      " 12  New_Price          1006 non-null   object \n",
      " 13  Price              6019 non-null   float64\n",
      "dtypes: float64(2), int64(3), object(9)\n",
      "memory usage: 793.4+ KB\n"
     ]
    }
   ],
   "source": [
    "df.info()"
   ]
  },
  {
   "cell_type": "code",
   "execution_count": 14,
   "id": "f6d8db11-fa2b-4bbe-b413-9d5ef44b7e6f",
   "metadata": {},
   "outputs": [],
   "source": [
    "df['Power'].replace (to_replace = {'null bhp': '74 bhp','nan':'74 bhp'},inplace = True)"
   ]
  },
  {
   "cell_type": "code",
   "execution_count": 15,
   "id": "4336cc87-0790-4325-b647-e283d7582b42",
   "metadata": {},
   "outputs": [],
   "source": [
    "df['Power'] = pd.to_numeric(df['Power'].str.split().str.get(0))"
   ]
  },
  {
   "cell_type": "code",
   "execution_count": 16,
   "id": "68621870-828c-4166-bd29-641b85f5f972",
   "metadata": {},
   "outputs": [
    {
     "data": {
      "text/plain": [
       "0        58.16\n",
       "1       126.20\n",
       "2        88.70\n",
       "3        88.76\n",
       "4       140.80\n",
       "         ...  \n",
       "7248    103.60\n",
       "7249    103.60\n",
       "7250     63.10\n",
       "7251    103.60\n",
       "7252    170.00\n",
       "Name: Power, Length: 7253, dtype: float64"
      ]
     },
     "execution_count": 16,
     "metadata": {},
     "output_type": "execute_result"
    }
   ],
   "source": [
    "df['Power']"
   ]
  },
  {
   "cell_type": "code",
   "execution_count": 17,
   "id": "1919c5c7-c4c4-4566-947e-d8d1e24e7f25",
   "metadata": {},
   "outputs": [],
   "source": [
    "df['Mileage'] = pd.to_numeric(df['Mileage'].str.split().str.get(0))"
   ]
  },
  {
   "cell_type": "code",
   "execution_count": 18,
   "id": "8275be4f-d55c-481d-85a2-c1bcd95a5792",
   "metadata": {},
   "outputs": [],
   "source": [
    "df['Engine'] = pd.to_numeric(df['Engine'].str.split().str.get(0))"
   ]
  },
  {
   "cell_type": "markdown",
   "id": "0696ebe0-509a-4d82-a99b-769b9ed1c4b0",
   "metadata": {},
   "source": [
    "# Missing value treatment"
   ]
  },
  {
   "cell_type": "code",
   "execution_count": 19,
   "id": "5878114c-2e11-445d-937b-4a80f3d7b1f8",
   "metadata": {},
   "outputs": [],
   "source": [
    "df['Engine'] = df['Engine'].fillna(value = df['Engine'].median())\n",
    "df['Power'] = df['Power'].fillna(value = df['Power'].median())\n",
    "df['Seats'] = df['Seats'].fillna(value = df['Seats'].median())"
   ]
  },
  {
   "cell_type": "code",
   "execution_count": 20,
   "id": "84458037-520f-457d-8843-49f41dc002af",
   "metadata": {},
   "outputs": [],
   "source": [
    "df['Price'] = df['Price'].fillna(value = df['Price'].median())"
   ]
  },
  {
   "cell_type": "markdown",
   "id": "8e31bb6b-960a-41e0-b7ca-34ad8a16169d",
   "metadata": {},
   "source": [
    "# Dropping unnecessary columns"
   ]
  },
  {
   "cell_type": "code",
   "execution_count": 21,
   "id": "57a4136e-27a2-4c7d-bed7-01b759d540d9",
   "metadata": {},
   "outputs": [],
   "source": [
    "df.drop('New_Price',axis=1, inplace = True)"
   ]
  },
  {
   "cell_type": "code",
   "execution_count": 22,
   "id": "18bcb30f-485e-4b48-b5e0-b9b6cd13f95e",
   "metadata": {},
   "outputs": [],
   "source": [
    "df.dropna(inplace=True)"
   ]
  },
  {
   "cell_type": "code",
   "execution_count": 23,
   "id": "aac89f6f-3d73-42cf-8d60-9d6774941d40",
   "metadata": {},
   "outputs": [
    {
     "data": {
      "text/plain": [
       "S.No.                0\n",
       "Name                 0\n",
       "Location             0\n",
       "Year                 0\n",
       "Kilometers_Driven    0\n",
       "Fuel_Type            0\n",
       "Transmission         0\n",
       "Owner_Type           0\n",
       "Mileage              0\n",
       "Engine               0\n",
       "Power                0\n",
       "Seats                0\n",
       "Price                0\n",
       "dtype: int64"
      ]
     },
     "execution_count": 23,
     "metadata": {},
     "output_type": "execute_result"
    }
   ],
   "source": [
    "df.isnull().sum()"
   ]
  },
  {
   "cell_type": "markdown",
   "id": "58d15b68-d29c-49cb-a0fd-135d66478cb9",
   "metadata": {},
   "source": [
    "# Checking co-relation"
   ]
  },
  {
   "cell_type": "code",
   "execution_count": 24,
   "id": "b31b272e-4f94-47bc-903d-d5ce2c56f461",
   "metadata": {},
   "outputs": [
    {
     "data": {
      "text/plain": [
       "<AxesSubplot:>"
      ]
     },
     "execution_count": 24,
     "metadata": {},
     "output_type": "execute_result"
    },
    {
     "data": {
      "image/png": "[encoded data removed]",
      "text/plain": [
       "<Figure size 1080x504 with 2 Axes>"
      ]
     },
     "metadata": {
      "needs_background": "light"
     },
     "output_type": "display_data"
    }
   ],
   "source": [
    "plt.figure(figsize = (15,7))\n",
    "sns.heatmap(df.corr(),annot=True)"
   ]
  },
  {
   "cell_type": "code",
   "execution_count": 25,
   "id": "bbf874b8-2d7a-4d8f-9b75-8729ddafaeb1",
   "metadata": {},
   "outputs": [],
   "source": [
    "df.drop('Engine',axis=1,inplace=True)"
   ]
  },
  {
   "cell_type": "code",
   "execution_count": 26,
   "id": "d6b12395-7565-4273-9f1c-faff86e5c5ae",
   "metadata": {},
   "outputs": [],
   "source": [
    "df.drop('S.No.',axis=1,inplace=True)"
   ]
  },
  {
   "cell_type": "code",
   "execution_count": 27,
   "id": "d1647667-3d11-40a7-9f86-e1fcf331fcd8",
   "metadata": {},
   "outputs": [
    {
     "data": {
      "text/html": [
       "<div>\n",
       "<style scoped>\n",
       "    .dataframe tbody tr th:only-of-type {\n",
       "        vertical-align: middle;\n",
       "    }\n",
       "\n",
       "    .dataframe tbody tr th {\n",
       "        vertical-align: top;\n",
       "    }\n",
       "\n",
       "    .dataframe thead th {\n",
       "        text-align: right;\n",
       "    }\n",
       "</style>\n",
       "<table border=\"1\" class=\"dataframe\">\n",
       "  <thead>\n",
       "    <tr style=\"text-align: right;\">\n",
       "      <th></th>\n",
       "      <th>Name</th>\n",
       "      <th>Location</th>\n",
       "      <th>Year</th>\n",
       "      <th>Kilometers_Driven</th>\n",
       "      <th>Fuel_Type</th>\n",
       "      <th>Transmission</th>\n",
       "      <th>Owner_Type</th>\n",
       "      <th>Mileage</th>\n",
       "      <th>Power</th>\n",
       "      <th>Seats</th>\n",
       "      <th>Price</th>\n",
       "    </tr>\n",
       "  </thead>\n",
       "  <tbody>\n",
       "    <tr>\n",
       "      <th>0</th>\n",
       "      <td>Maruti Wagon R LXI CNG</td>\n",
       "      <td>Mumbai</td>\n",
       "      <td>2010</td>\n",
       "      <td>72000</td>\n",
       "      <td>CNG</td>\n",
       "      <td>Manual</td>\n",
       "      <td>First</td>\n",
       "      <td>26.60</td>\n",
       "      <td>58.16</td>\n",
       "      <td>5.0</td>\n",
       "      <td>1.75</td>\n",
       "    </tr>\n",
       "    <tr>\n",
       "      <th>1</th>\n",
       "      <td>Hyundai Creta 1.6 CRDi SX Option</td>\n",
       "      <td>Pune</td>\n",
       "      <td>2015</td>\n",
       "      <td>41000</td>\n",
       "      <td>Diesel</td>\n",
       "      <td>Manual</td>\n",
       "      <td>First</td>\n",
       "      <td>19.67</td>\n",
       "      <td>126.20</td>\n",
       "      <td>5.0</td>\n",
       "      <td>12.50</td>\n",
       "    </tr>\n",
       "    <tr>\n",
       "      <th>2</th>\n",
       "      <td>Honda Jazz V</td>\n",
       "      <td>Chennai</td>\n",
       "      <td>2011</td>\n",
       "      <td>46000</td>\n",
       "      <td>Petrol</td>\n",
       "      <td>Manual</td>\n",
       "      <td>First</td>\n",
       "      <td>18.20</td>\n",
       "      <td>88.70</td>\n",
       "      <td>5.0</td>\n",
       "      <td>4.50</td>\n",
       "    </tr>\n",
       "    <tr>\n",
       "      <th>3</th>\n",
       "      <td>Maruti Ertiga VDI</td>\n",
       "      <td>Chennai</td>\n",
       "      <td>2012</td>\n",
       "      <td>87000</td>\n",
       "      <td>Diesel</td>\n",
       "      <td>Manual</td>\n",
       "      <td>First</td>\n",
       "      <td>20.77</td>\n",
       "      <td>88.76</td>\n",
       "      <td>7.0</td>\n",
       "      <td>6.00</td>\n",
       "    </tr>\n",
       "    <tr>\n",
       "      <th>4</th>\n",
       "      <td>Audi A4 New 2.0 TDI Multitronic</td>\n",
       "      <td>Coimbatore</td>\n",
       "      <td>2013</td>\n",
       "      <td>40670</td>\n",
       "      <td>Diesel</td>\n",
       "      <td>Automatic</td>\n",
       "      <td>Second</td>\n",
       "      <td>15.20</td>\n",
       "      <td>140.80</td>\n",
       "      <td>5.0</td>\n",
       "      <td>17.74</td>\n",
       "    </tr>\n",
       "  </tbody>\n",
       "</table>\n",
       "</div>"
      ],
      "text/plain": [
       "                               Name    Location  Year  Kilometers_Driven  \\\n",
       "0            Maruti Wagon R LXI CNG      Mumbai  2010              72000   \n",
       "1  Hyundai Creta 1.6 CRDi SX Option        Pune  2015              41000   \n",
       "2                      Honda Jazz V     Chennai  2011              46000   \n",
       "3                 Maruti Ertiga VDI     Chennai  2012              87000   \n",
       "4   Audi A4 New 2.0 TDI Multitronic  Coimbatore  2013              40670   \n",
       "\n",
       "  Fuel_Type Transmission Owner_Type  Mileage   Power  Seats  Price  \n",
       "0       CNG       Manual      First    26.60   58.16    5.0   1.75  \n",
       "1    Diesel       Manual      First    19.67  126.20    5.0  12.50  \n",
       "2    Petrol       Manual      First    18.20   88.70    5.0   4.50  \n",
       "3    Diesel       Manual      First    20.77   88.76    7.0   6.00  \n",
       "4    Diesel    Automatic     Second    15.20  140.80    5.0  17.74  "
      ]
     },
     "execution_count": 27,
     "metadata": {},
     "output_type": "execute_result"
    }
   ],
   "source": [
    "df.head()"
   ]
  },
  {
   "cell_type": "code",
   "execution_count": 28,
   "id": "f677906d-b51f-4b28-98f0-5bd3e81ce066",
   "metadata": {},
   "outputs": [
    {
     "data": {
      "text/plain": [
       "2039"
      ]
     },
     "execution_count": 28,
     "metadata": {},
     "output_type": "execute_result"
    }
   ],
   "source": [
    "df['Name'].nunique()"
   ]
  },
  {
   "cell_type": "code",
   "execution_count": 29,
   "id": "ffa70f09-2b8f-4080-8c86-8b5fb1cc0515",
   "metadata": {},
   "outputs": [
    {
     "data": {
      "text/plain": [
       "array(['Mumbai', 'Pune', 'Chennai', 'Coimbatore', 'Hyderabad', 'Jaipur',\n",
       "       'Kochi', 'Kolkata', 'Delhi', 'Bangalore', 'Ahmedabad'],\n",
       "      dtype=object)"
      ]
     },
     "execution_count": 29,
     "metadata": {},
     "output_type": "execute_result"
    }
   ],
   "source": [
    "df['Location'].unique()"
   ]
  },
  {
   "cell_type": "code",
   "execution_count": 30,
   "id": "ea408bb7-337e-4f47-a4ce-7c3f7ff772e6",
   "metadata": {},
   "outputs": [
    {
     "data": {
      "text/plain": [
       "array(['CNG', 'Diesel', 'Petrol', 'LPG'], dtype=object)"
      ]
     },
     "execution_count": 30,
     "metadata": {},
     "output_type": "execute_result"
    }
   ],
   "source": [
    "df['Fuel_Type'].unique()"
   ]
  },
  {
   "cell_type": "code",
   "execution_count": 31,
   "id": "edb2f148-8a36-4b10-8920-0ae3afa5885f",
   "metadata": {},
   "outputs": [
    {
     "data": {
      "text/plain": [
       "array(['Manual', 'Automatic'], dtype=object)"
      ]
     },
     "execution_count": 31,
     "metadata": {},
     "output_type": "execute_result"
    }
   ],
   "source": [
    "df['Transmission'].unique()"
   ]
  },
  {
   "cell_type": "code",
   "execution_count": 32,
   "id": "2249fc1f-da3d-4a54-a98f-dc75b987188f",
   "metadata": {},
   "outputs": [
    {
     "data": {
      "text/plain": [
       "array(['First', 'Second', 'Fourth & Above', 'Third'], dtype=object)"
      ]
     },
     "execution_count": 32,
     "metadata": {},
     "output_type": "execute_result"
    }
   ],
   "source": [
    "df['Owner_Type'].unique()"
   ]
  },
  {
   "cell_type": "code",
   "execution_count": 33,
   "id": "990a3c04-910f-4965-8c44-ffe14d7f1d31",
   "metadata": {},
   "outputs": [],
   "source": [
    "df['Company'] = df['Name'].apply(lambda x:x.split()[0].capitalize())"
   ]
  },
  {
   "cell_type": "code",
   "execution_count": 34,
   "id": "4307cb06-0171-42e4-bb3e-9d26d9007eea",
   "metadata": {},
   "outputs": [
    {
     "data": {
      "text/html": [
       "<div>\n",
       "<style scoped>\n",
       "    .dataframe tbody tr th:only-of-type {\n",
       "        vertical-align: middle;\n",
       "    }\n",
       "\n",
       "    .dataframe tbody tr th {\n",
       "        vertical-align: top;\n",
       "    }\n",
       "\n",
       "    .dataframe thead th {\n",
       "        text-align: right;\n",
       "    }\n",
       "</style>\n",
       "<table border=\"1\" class=\"dataframe\">\n",
       "  <thead>\n",
       "    <tr style=\"text-align: right;\">\n",
       "      <th></th>\n",
       "      <th>Name</th>\n",
       "      <th>Location</th>\n",
       "      <th>Year</th>\n",
       "      <th>Kilometers_Driven</th>\n",
       "      <th>Fuel_Type</th>\n",
       "      <th>Transmission</th>\n",
       "      <th>Owner_Type</th>\n",
       "      <th>Mileage</th>\n",
       "      <th>Power</th>\n",
       "      <th>Seats</th>\n",
       "      <th>Price</th>\n",
       "      <th>Company</th>\n",
       "    </tr>\n",
       "  </thead>\n",
       "  <tbody>\n",
       "    <tr>\n",
       "      <th>0</th>\n",
       "      <td>Maruti Wagon R LXI CNG</td>\n",
       "      <td>Mumbai</td>\n",
       "      <td>2010</td>\n",
       "      <td>72000</td>\n",
       "      <td>CNG</td>\n",
       "      <td>Manual</td>\n",
       "      <td>First</td>\n",
       "      <td>26.60</td>\n",
       "      <td>58.16</td>\n",
       "      <td>5.0</td>\n",
       "      <td>1.75</td>\n",
       "      <td>Maruti</td>\n",
       "    </tr>\n",
       "    <tr>\n",
       "      <th>1</th>\n",
       "      <td>Hyundai Creta 1.6 CRDi SX Option</td>\n",
       "      <td>Pune</td>\n",
       "      <td>2015</td>\n",
       "      <td>41000</td>\n",
       "      <td>Diesel</td>\n",
       "      <td>Manual</td>\n",
       "      <td>First</td>\n",
       "      <td>19.67</td>\n",
       "      <td>126.20</td>\n",
       "      <td>5.0</td>\n",
       "      <td>12.50</td>\n",
       "      <td>Hyundai</td>\n",
       "    </tr>\n",
       "    <tr>\n",
       "      <th>2</th>\n",
       "      <td>Honda Jazz V</td>\n",
       "      <td>Chennai</td>\n",
       "      <td>2011</td>\n",
       "      <td>46000</td>\n",
       "      <td>Petrol</td>\n",
       "      <td>Manual</td>\n",
       "      <td>First</td>\n",
       "      <td>18.20</td>\n",
       "      <td>88.70</td>\n",
       "      <td>5.0</td>\n",
       "      <td>4.50</td>\n",
       "      <td>Honda</td>\n",
       "    </tr>\n",
       "    <tr>\n",
       "      <th>3</th>\n",
       "      <td>Maruti Ertiga VDI</td>\n",
       "      <td>Chennai</td>\n",
       "      <td>2012</td>\n",
       "      <td>87000</td>\n",
       "      <td>Diesel</td>\n",
       "      <td>Manual</td>\n",
       "      <td>First</td>\n",
       "      <td>20.77</td>\n",
       "      <td>88.76</td>\n",
       "      <td>7.0</td>\n",
       "      <td>6.00</td>\n",
       "      <td>Maruti</td>\n",
       "    </tr>\n",
       "    <tr>\n",
       "      <th>4</th>\n",
       "      <td>Audi A4 New 2.0 TDI Multitronic</td>\n",
       "      <td>Coimbatore</td>\n",
       "      <td>2013</td>\n",
       "      <td>40670</td>\n",
       "      <td>Diesel</td>\n",
       "      <td>Automatic</td>\n",
       "      <td>Second</td>\n",
       "      <td>15.20</td>\n",
       "      <td>140.80</td>\n",
       "      <td>5.0</td>\n",
       "      <td>17.74</td>\n",
       "      <td>Audi</td>\n",
       "    </tr>\n",
       "  </tbody>\n",
       "</table>\n",
       "</div>"
      ],
      "text/plain": [
       "                               Name    Location  Year  Kilometers_Driven  \\\n",
       "0            Maruti Wagon R LXI CNG      Mumbai  2010              72000   \n",
       "1  Hyundai Creta 1.6 CRDi SX Option        Pune  2015              41000   \n",
       "2                      Honda Jazz V     Chennai  2011              46000   \n",
       "3                 Maruti Ertiga VDI     Chennai  2012              87000   \n",
       "4   Audi A4 New 2.0 TDI Multitronic  Coimbatore  2013              40670   \n",
       "\n",
       "  Fuel_Type Transmission Owner_Type  Mileage   Power  Seats  Price  Company  \n",
       "0       CNG       Manual      First    26.60   58.16    5.0   1.75   Maruti  \n",
       "1    Diesel       Manual      First    19.67  126.20    5.0  12.50  Hyundai  \n",
       "2    Petrol       Manual      First    18.20   88.70    5.0   4.50    Honda  \n",
       "3    Diesel       Manual      First    20.77   88.76    7.0   6.00   Maruti  \n",
       "4    Diesel    Automatic     Second    15.20  140.80    5.0  17.74     Audi  "
      ]
     },
     "execution_count": 34,
     "metadata": {},
     "output_type": "execute_result"
    }
   ],
   "source": [
    "df.head()"
   ]
  },
  {
   "cell_type": "code",
   "execution_count": 35,
   "id": "73298205-a7b3-41cc-b549-ab54d52f1130",
   "metadata": {},
   "outputs": [
    {
     "data": {
      "text/plain": [
       "32"
      ]
     },
     "execution_count": 35,
     "metadata": {},
     "output_type": "execute_result"
    }
   ],
   "source": [
    "df['Company'].nunique()"
   ]
  },
  {
   "cell_type": "code",
   "execution_count": 36,
   "id": "8fc7368d-4405-4f8c-a9eb-b3bd4c74033b",
   "metadata": {},
   "outputs": [],
   "source": [
    "df.drop('Name',axis=1,inplace=True)"
   ]
  },
  {
   "cell_type": "code",
   "execution_count": 37,
   "id": "11358e44-4e97-46ac-b54d-e5e4de0ec538",
   "metadata": {},
   "outputs": [
    {
     "data": {
      "text/html": [
       "<div>\n",
       "<style scoped>\n",
       "    .dataframe tbody tr th:only-of-type {\n",
       "        vertical-align: middle;\n",
       "    }\n",
       "\n",
       "    .dataframe tbody tr th {\n",
       "        vertical-align: top;\n",
       "    }\n",
       "\n",
       "    .dataframe thead th {\n",
       "        text-align: right;\n",
       "    }\n",
       "</style>\n",
       "<table border=\"1\" class=\"dataframe\">\n",
       "  <thead>\n",
       "    <tr style=\"text-align: right;\">\n",
       "      <th></th>\n",
       "      <th>Location</th>\n",
       "      <th>Year</th>\n",
       "      <th>Kilometers_Driven</th>\n",
       "      <th>Fuel_Type</th>\n",
       "      <th>Transmission</th>\n",
       "      <th>Owner_Type</th>\n",
       "      <th>Mileage</th>\n",
       "      <th>Power</th>\n",
       "      <th>Seats</th>\n",
       "      <th>Price</th>\n",
       "      <th>Company</th>\n",
       "    </tr>\n",
       "  </thead>\n",
       "  <tbody>\n",
       "    <tr>\n",
       "      <th>0</th>\n",
       "      <td>Mumbai</td>\n",
       "      <td>2010</td>\n",
       "      <td>72000</td>\n",
       "      <td>CNG</td>\n",
       "      <td>Manual</td>\n",
       "      <td>First</td>\n",
       "      <td>26.60</td>\n",
       "      <td>58.16</td>\n",
       "      <td>5.0</td>\n",
       "      <td>1.75</td>\n",
       "      <td>Maruti</td>\n",
       "    </tr>\n",
       "    <tr>\n",
       "      <th>1</th>\n",
       "      <td>Pune</td>\n",
       "      <td>2015</td>\n",
       "      <td>41000</td>\n",
       "      <td>Diesel</td>\n",
       "      <td>Manual</td>\n",
       "      <td>First</td>\n",
       "      <td>19.67</td>\n",
       "      <td>126.20</td>\n",
       "      <td>5.0</td>\n",
       "      <td>12.50</td>\n",
       "      <td>Hyundai</td>\n",
       "    </tr>\n",
       "    <tr>\n",
       "      <th>2</th>\n",
       "      <td>Chennai</td>\n",
       "      <td>2011</td>\n",
       "      <td>46000</td>\n",
       "      <td>Petrol</td>\n",
       "      <td>Manual</td>\n",
       "      <td>First</td>\n",
       "      <td>18.20</td>\n",
       "      <td>88.70</td>\n",
       "      <td>5.0</td>\n",
       "      <td>4.50</td>\n",
       "      <td>Honda</td>\n",
       "    </tr>\n",
       "    <tr>\n",
       "      <th>3</th>\n",
       "      <td>Chennai</td>\n",
       "      <td>2012</td>\n",
       "      <td>87000</td>\n",
       "      <td>Diesel</td>\n",
       "      <td>Manual</td>\n",
       "      <td>First</td>\n",
       "      <td>20.77</td>\n",
       "      <td>88.76</td>\n",
       "      <td>7.0</td>\n",
       "      <td>6.00</td>\n",
       "      <td>Maruti</td>\n",
       "    </tr>\n",
       "    <tr>\n",
       "      <th>4</th>\n",
       "      <td>Coimbatore</td>\n",
       "      <td>2013</td>\n",
       "      <td>40670</td>\n",
       "      <td>Diesel</td>\n",
       "      <td>Automatic</td>\n",
       "      <td>Second</td>\n",
       "      <td>15.20</td>\n",
       "      <td>140.80</td>\n",
       "      <td>5.0</td>\n",
       "      <td>17.74</td>\n",
       "      <td>Audi</td>\n",
       "    </tr>\n",
       "    <tr>\n",
       "      <th>...</th>\n",
       "      <td>...</td>\n",
       "      <td>...</td>\n",
       "      <td>...</td>\n",
       "      <td>...</td>\n",
       "      <td>...</td>\n",
       "      <td>...</td>\n",
       "      <td>...</td>\n",
       "      <td>...</td>\n",
       "      <td>...</td>\n",
       "      <td>...</td>\n",
       "      <td>...</td>\n",
       "    </tr>\n",
       "    <tr>\n",
       "      <th>7248</th>\n",
       "      <td>Hyderabad</td>\n",
       "      <td>2011</td>\n",
       "      <td>89411</td>\n",
       "      <td>Diesel</td>\n",
       "      <td>Manual</td>\n",
       "      <td>First</td>\n",
       "      <td>20.54</td>\n",
       "      <td>103.60</td>\n",
       "      <td>5.0</td>\n",
       "      <td>5.64</td>\n",
       "      <td>Volkswagen</td>\n",
       "    </tr>\n",
       "    <tr>\n",
       "      <th>7249</th>\n",
       "      <td>Mumbai</td>\n",
       "      <td>2015</td>\n",
       "      <td>59000</td>\n",
       "      <td>Petrol</td>\n",
       "      <td>Automatic</td>\n",
       "      <td>First</td>\n",
       "      <td>17.21</td>\n",
       "      <td>103.60</td>\n",
       "      <td>5.0</td>\n",
       "      <td>5.64</td>\n",
       "      <td>Volkswagen</td>\n",
       "    </tr>\n",
       "    <tr>\n",
       "      <th>7250</th>\n",
       "      <td>Kolkata</td>\n",
       "      <td>2012</td>\n",
       "      <td>28000</td>\n",
       "      <td>Diesel</td>\n",
       "      <td>Manual</td>\n",
       "      <td>First</td>\n",
       "      <td>23.08</td>\n",
       "      <td>63.10</td>\n",
       "      <td>5.0</td>\n",
       "      <td>5.64</td>\n",
       "      <td>Nissan</td>\n",
       "    </tr>\n",
       "    <tr>\n",
       "      <th>7251</th>\n",
       "      <td>Pune</td>\n",
       "      <td>2013</td>\n",
       "      <td>52262</td>\n",
       "      <td>Petrol</td>\n",
       "      <td>Automatic</td>\n",
       "      <td>Third</td>\n",
       "      <td>17.20</td>\n",
       "      <td>103.60</td>\n",
       "      <td>5.0</td>\n",
       "      <td>5.64</td>\n",
       "      <td>Volkswagen</td>\n",
       "    </tr>\n",
       "    <tr>\n",
       "      <th>7252</th>\n",
       "      <td>Kochi</td>\n",
       "      <td>2014</td>\n",
       "      <td>72443</td>\n",
       "      <td>Diesel</td>\n",
       "      <td>Automatic</td>\n",
       "      <td>First</td>\n",
       "      <td>10.00</td>\n",
       "      <td>170.00</td>\n",
       "      <td>5.0</td>\n",
       "      <td>5.64</td>\n",
       "      <td>Mercedes-benz</td>\n",
       "    </tr>\n",
       "  </tbody>\n",
       "</table>\n",
       "<p>7251 rows × 11 columns</p>\n",
       "</div>"
      ],
      "text/plain": [
       "        Location  Year  Kilometers_Driven Fuel_Type Transmission Owner_Type  \\\n",
       "0         Mumbai  2010              72000       CNG       Manual      First   \n",
       "1           Pune  2015              41000    Diesel       Manual      First   \n",
       "2        Chennai  2011              46000    Petrol       Manual      First   \n",
       "3        Chennai  2012              87000    Diesel       Manual      First   \n",
       "4     Coimbatore  2013              40670    Diesel    Automatic     Second   \n",
       "...          ...   ...                ...       ...          ...        ...   \n",
       "7248   Hyderabad  2011              89411    Diesel       Manual      First   \n",
       "7249      Mumbai  2015              59000    Petrol    Automatic      First   \n",
       "7250     Kolkata  2012              28000    Diesel       Manual      First   \n",
       "7251        Pune  2013              52262    Petrol    Automatic      Third   \n",
       "7252       Kochi  2014              72443    Diesel    Automatic      First   \n",
       "\n",
       "      Mileage   Power  Seats  Price        Company  \n",
       "0       26.60   58.16    5.0   1.75         Maruti  \n",
       "1       19.67  126.20    5.0  12.50        Hyundai  \n",
       "2       18.20   88.70    5.0   4.50          Honda  \n",
       "3       20.77   88.76    7.0   6.00         Maruti  \n",
       "4       15.20  140.80    5.0  17.74           Audi  \n",
       "...       ...     ...    ...    ...            ...  \n",
       "7248    20.54  103.60    5.0   5.64     Volkswagen  \n",
       "7249    17.21  103.60    5.0   5.64     Volkswagen  \n",
       "7250    23.08   63.10    5.0   5.64         Nissan  \n",
       "7251    17.20  103.60    5.0   5.64     Volkswagen  \n",
       "7252    10.00  170.00    5.0   5.64  Mercedes-benz  \n",
       "\n",
       "[7251 rows x 11 columns]"
      ]
     },
     "execution_count": 37,
     "metadata": {},
     "output_type": "execute_result"
    }
   ],
   "source": [
    "df"
   ]
  },
  {
   "cell_type": "markdown",
   "id": "0a79a0f7-3a1a-4024-8e54-fdcb378412d2",
   "metadata": {},
   "source": [
    "# Categorical to numberic convertion"
   ]
  },
  {
   "cell_type": "code",
   "execution_count": 38,
   "id": "229a39ba-0a6c-443c-aaae-731dd19d50e3",
   "metadata": {},
   "outputs": [],
   "source": [
    "df = pd.get_dummies(df,drop_first=True)"
   ]
  },
  {
   "cell_type": "code",
   "execution_count": 39,
   "id": "e442ebfd-ce20-4b15-8aa0-f2508fa207ed",
   "metadata": {},
   "outputs": [
    {
     "data": {
      "text/html": [
       "<div>\n",
       "<style scoped>\n",
       "    .dataframe tbody tr th:only-of-type {\n",
       "        vertical-align: middle;\n",
       "    }\n",
       "\n",
       "    .dataframe tbody tr th {\n",
       "        vertical-align: top;\n",
       "    }\n",
       "\n",
       "    .dataframe thead th {\n",
       "        text-align: right;\n",
       "    }\n",
       "</style>\n",
       "<table border=\"1\" class=\"dataframe\">\n",
       "  <thead>\n",
       "    <tr style=\"text-align: right;\">\n",
       "      <th></th>\n",
       "      <th>Year</th>\n",
       "      <th>Kilometers_Driven</th>\n",
       "      <th>Mileage</th>\n",
       "      <th>Power</th>\n",
       "      <th>Seats</th>\n",
       "      <th>Price</th>\n",
       "      <th>Location_Bangalore</th>\n",
       "      <th>Location_Chennai</th>\n",
       "      <th>Location_Coimbatore</th>\n",
       "      <th>Location_Delhi</th>\n",
       "      <th>...</th>\n",
       "      <th>Company_Nissan</th>\n",
       "      <th>Company_Opelcorsa</th>\n",
       "      <th>Company_Porsche</th>\n",
       "      <th>Company_Renault</th>\n",
       "      <th>Company_Skoda</th>\n",
       "      <th>Company_Smart</th>\n",
       "      <th>Company_Tata</th>\n",
       "      <th>Company_Toyota</th>\n",
       "      <th>Company_Volkswagen</th>\n",
       "      <th>Company_Volvo</th>\n",
       "    </tr>\n",
       "  </thead>\n",
       "  <tbody>\n",
       "    <tr>\n",
       "      <th>0</th>\n",
       "      <td>2010</td>\n",
       "      <td>72000</td>\n",
       "      <td>26.60</td>\n",
       "      <td>58.16</td>\n",
       "      <td>5.0</td>\n",
       "      <td>1.75</td>\n",
       "      <td>0</td>\n",
       "      <td>0</td>\n",
       "      <td>0</td>\n",
       "      <td>0</td>\n",
       "      <td>...</td>\n",
       "      <td>0</td>\n",
       "      <td>0</td>\n",
       "      <td>0</td>\n",
       "      <td>0</td>\n",
       "      <td>0</td>\n",
       "      <td>0</td>\n",
       "      <td>0</td>\n",
       "      <td>0</td>\n",
       "      <td>0</td>\n",
       "      <td>0</td>\n",
       "    </tr>\n",
       "    <tr>\n",
       "      <th>1</th>\n",
       "      <td>2015</td>\n",
       "      <td>41000</td>\n",
       "      <td>19.67</td>\n",
       "      <td>126.20</td>\n",
       "      <td>5.0</td>\n",
       "      <td>12.50</td>\n",
       "      <td>0</td>\n",
       "      <td>0</td>\n",
       "      <td>0</td>\n",
       "      <td>0</td>\n",
       "      <td>...</td>\n",
       "      <td>0</td>\n",
       "      <td>0</td>\n",
       "      <td>0</td>\n",
       "      <td>0</td>\n",
       "      <td>0</td>\n",
       "      <td>0</td>\n",
       "      <td>0</td>\n",
       "      <td>0</td>\n",
       "      <td>0</td>\n",
       "      <td>0</td>\n",
       "    </tr>\n",
       "    <tr>\n",
       "      <th>2</th>\n",
       "      <td>2011</td>\n",
       "      <td>46000</td>\n",
       "      <td>18.20</td>\n",
       "      <td>88.70</td>\n",
       "      <td>5.0</td>\n",
       "      <td>4.50</td>\n",
       "      <td>0</td>\n",
       "      <td>1</td>\n",
       "      <td>0</td>\n",
       "      <td>0</td>\n",
       "      <td>...</td>\n",
       "      <td>0</td>\n",
       "      <td>0</td>\n",
       "      <td>0</td>\n",
       "      <td>0</td>\n",
       "      <td>0</td>\n",
       "      <td>0</td>\n",
       "      <td>0</td>\n",
       "      <td>0</td>\n",
       "      <td>0</td>\n",
       "      <td>0</td>\n",
       "    </tr>\n",
       "    <tr>\n",
       "      <th>3</th>\n",
       "      <td>2012</td>\n",
       "      <td>87000</td>\n",
       "      <td>20.77</td>\n",
       "      <td>88.76</td>\n",
       "      <td>7.0</td>\n",
       "      <td>6.00</td>\n",
       "      <td>0</td>\n",
       "      <td>1</td>\n",
       "      <td>0</td>\n",
       "      <td>0</td>\n",
       "      <td>...</td>\n",
       "      <td>0</td>\n",
       "      <td>0</td>\n",
       "      <td>0</td>\n",
       "      <td>0</td>\n",
       "      <td>0</td>\n",
       "      <td>0</td>\n",
       "      <td>0</td>\n",
       "      <td>0</td>\n",
       "      <td>0</td>\n",
       "      <td>0</td>\n",
       "    </tr>\n",
       "    <tr>\n",
       "      <th>4</th>\n",
       "      <td>2013</td>\n",
       "      <td>40670</td>\n",
       "      <td>15.20</td>\n",
       "      <td>140.80</td>\n",
       "      <td>5.0</td>\n",
       "      <td>17.74</td>\n",
       "      <td>0</td>\n",
       "      <td>0</td>\n",
       "      <td>1</td>\n",
       "      <td>0</td>\n",
       "      <td>...</td>\n",
       "      <td>0</td>\n",
       "      <td>0</td>\n",
       "      <td>0</td>\n",
       "      <td>0</td>\n",
       "      <td>0</td>\n",
       "      <td>0</td>\n",
       "      <td>0</td>\n",
       "      <td>0</td>\n",
       "      <td>0</td>\n",
       "      <td>0</td>\n",
       "    </tr>\n",
       "  </tbody>\n",
       "</table>\n",
       "<p>5 rows × 54 columns</p>\n",
       "</div>"
      ],
      "text/plain": [
       "   Year  Kilometers_Driven  Mileage   Power  Seats  Price  Location_Bangalore  \\\n",
       "0  2010              72000    26.60   58.16    5.0   1.75                   0   \n",
       "1  2015              41000    19.67  126.20    5.0  12.50                   0   \n",
       "2  2011              46000    18.20   88.70    5.0   4.50                   0   \n",
       "3  2012              87000    20.77   88.76    7.0   6.00                   0   \n",
       "4  2013              40670    15.20  140.80    5.0  17.74                   0   \n",
       "\n",
       "   Location_Chennai  Location_Coimbatore  Location_Delhi  ...  Company_Nissan  \\\n",
       "0                 0                    0               0  ...               0   \n",
       "1                 0                    0               0  ...               0   \n",
       "2                 1                    0               0  ...               0   \n",
       "3                 1                    0               0  ...               0   \n",
       "4                 0                    1               0  ...               0   \n",
       "\n",
       "   Company_Opelcorsa  Company_Porsche  Company_Renault  Company_Skoda  \\\n",
       "0                  0                0                0              0   \n",
       "1                  0                0                0              0   \n",
       "2                  0                0                0              0   \n",
       "3                  0                0                0              0   \n",
       "4                  0                0                0              0   \n",
       "\n",
       "   Company_Smart  Company_Tata  Company_Toyota  Company_Volkswagen  \\\n",
       "0              0             0               0                   0   \n",
       "1              0             0               0                   0   \n",
       "2              0             0               0                   0   \n",
       "3              0             0               0                   0   \n",
       "4              0             0               0                   0   \n",
       "\n",
       "   Company_Volvo  \n",
       "0              0  \n",
       "1              0  \n",
       "2              0  \n",
       "3              0  \n",
       "4              0  \n",
       "\n",
       "[5 rows x 54 columns]"
      ]
     },
     "execution_count": 39,
     "metadata": {},
     "output_type": "execute_result"
    }
   ],
   "source": [
    "df.head()"
   ]
  },
  {
   "cell_type": "code",
   "execution_count": 40,
   "id": "4b868600-cdd0-4610-867f-f853ec4ed654",
   "metadata": {},
   "outputs": [
    {
     "data": {
      "text/plain": [
       "54"
      ]
     },
     "execution_count": 40,
     "metadata": {},
     "output_type": "execute_result"
    }
   ],
   "source": [
    "len(df.columns)"
   ]
  },
  {
   "cell_type": "code",
   "execution_count": 41,
   "id": "493e0415-5e99-4d7e-b386-49727ac82357",
   "metadata": {},
   "outputs": [],
   "source": [
    "# split in x and y \n",
    "# train and test split \n",
    "# Linear regression \n",
    "#  performance (MAE, MSC, RMSCE, R square, adj R square)"
   ]
  },
  {
   "cell_type": "markdown",
   "id": "923b56a4-f600-484b-8394-61e566ff147a",
   "metadata": {},
   "source": [
    "data download + EDA (pandas + visualization) + data preprocessing + missing values + missing values treatment + correlation + feature engineering (new column,'comp') + cat to num conversion + feature selection + split x (independent col) and y (target col) + 70 and 30 train test split + model creation + evaluation "
   ]
  },
  {
   "cell_type": "markdown",
   "id": "2ea6db24-1f4d-4349-a7f7-ac54a9ac5569",
   "metadata": {},
   "source": [
    "# x and y split "
   ]
  },
  {
   "cell_type": "code",
   "execution_count": 42,
   "id": "e516e328-9e36-49a3-a2c4-1907a1422103",
   "metadata": {},
   "outputs": [],
   "source": [
    "x = df.drop('Price',axis=1)\n",
    "y = df['Price']"
   ]
  },
  {
   "cell_type": "markdown",
   "id": "14ff68b5-7d71-4a00-8982-1adc55c4438c",
   "metadata": {},
   "source": [
    "# Train and Test Split"
   ]
  },
  {
   "cell_type": "code",
   "execution_count": 43,
   "id": "359f807c-cfb6-41cb-8a7c-b75c2dc1faaa",
   "metadata": {},
   "outputs": [],
   "source": [
    "from sklearn.model_selection import train_test_split\n",
    "x_train,x_test,y_train,y_test = train_test_split(x,y,test_size=0.2,random_state=100)"
   ]
  },
  {
   "cell_type": "code",
   "execution_count": 44,
   "id": "9e8659aa-1b8a-4bed-88f7-dc3fb0faaea2",
   "metadata": {},
   "outputs": [
    {
     "data": {
      "text/html": [
       "<div>\n",
       "<style scoped>\n",
       "    .dataframe tbody tr th:only-of-type {\n",
       "        vertical-align: middle;\n",
       "    }\n",
       "\n",
       "    .dataframe tbody tr th {\n",
       "        vertical-align: top;\n",
       "    }\n",
       "\n",
       "    .dataframe thead th {\n",
       "        text-align: right;\n",
       "    }\n",
       "</style>\n",
       "<table border=\"1\" class=\"dataframe\">\n",
       "  <thead>\n",
       "    <tr style=\"text-align: right;\">\n",
       "      <th></th>\n",
       "      <th>Year</th>\n",
       "      <th>Kilometers_Driven</th>\n",
       "      <th>Mileage</th>\n",
       "      <th>Power</th>\n",
       "      <th>Seats</th>\n",
       "      <th>Location_Bangalore</th>\n",
       "      <th>Location_Chennai</th>\n",
       "      <th>Location_Coimbatore</th>\n",
       "      <th>Location_Delhi</th>\n",
       "      <th>Location_Hyderabad</th>\n",
       "      <th>...</th>\n",
       "      <th>Company_Nissan</th>\n",
       "      <th>Company_Opelcorsa</th>\n",
       "      <th>Company_Porsche</th>\n",
       "      <th>Company_Renault</th>\n",
       "      <th>Company_Skoda</th>\n",
       "      <th>Company_Smart</th>\n",
       "      <th>Company_Tata</th>\n",
       "      <th>Company_Toyota</th>\n",
       "      <th>Company_Volkswagen</th>\n",
       "      <th>Company_Volvo</th>\n",
       "    </tr>\n",
       "  </thead>\n",
       "  <tbody>\n",
       "    <tr>\n",
       "      <th>6966</th>\n",
       "      <td>2009</td>\n",
       "      <td>49000</td>\n",
       "      <td>18.48</td>\n",
       "      <td>177.00</td>\n",
       "      <td>5.0</td>\n",
       "      <td>0</td>\n",
       "      <td>0</td>\n",
       "      <td>0</td>\n",
       "      <td>0</td>\n",
       "      <td>0</td>\n",
       "      <td>...</td>\n",
       "      <td>0</td>\n",
       "      <td>0</td>\n",
       "      <td>0</td>\n",
       "      <td>0</td>\n",
       "      <td>0</td>\n",
       "      <td>0</td>\n",
       "      <td>0</td>\n",
       "      <td>0</td>\n",
       "      <td>0</td>\n",
       "      <td>0</td>\n",
       "    </tr>\n",
       "    <tr>\n",
       "      <th>2633</th>\n",
       "      <td>2014</td>\n",
       "      <td>48104</td>\n",
       "      <td>17.40</td>\n",
       "      <td>117.30</td>\n",
       "      <td>5.0</td>\n",
       "      <td>0</td>\n",
       "      <td>0</td>\n",
       "      <td>0</td>\n",
       "      <td>0</td>\n",
       "      <td>0</td>\n",
       "      <td>...</td>\n",
       "      <td>0</td>\n",
       "      <td>0</td>\n",
       "      <td>0</td>\n",
       "      <td>0</td>\n",
       "      <td>0</td>\n",
       "      <td>0</td>\n",
       "      <td>0</td>\n",
       "      <td>0</td>\n",
       "      <td>0</td>\n",
       "      <td>0</td>\n",
       "    </tr>\n",
       "    <tr>\n",
       "      <th>6523</th>\n",
       "      <td>2013</td>\n",
       "      <td>54000</td>\n",
       "      <td>19.33</td>\n",
       "      <td>138.03</td>\n",
       "      <td>5.0</td>\n",
       "      <td>0</td>\n",
       "      <td>0</td>\n",
       "      <td>0</td>\n",
       "      <td>0</td>\n",
       "      <td>0</td>\n",
       "      <td>...</td>\n",
       "      <td>0</td>\n",
       "      <td>0</td>\n",
       "      <td>0</td>\n",
       "      <td>0</td>\n",
       "      <td>0</td>\n",
       "      <td>0</td>\n",
       "      <td>0</td>\n",
       "      <td>0</td>\n",
       "      <td>1</td>\n",
       "      <td>0</td>\n",
       "    </tr>\n",
       "    <tr>\n",
       "      <th>6452</th>\n",
       "      <td>2014</td>\n",
       "      <td>75000</td>\n",
       "      <td>21.21</td>\n",
       "      <td>103.20</td>\n",
       "      <td>5.0</td>\n",
       "      <td>0</td>\n",
       "      <td>0</td>\n",
       "      <td>0</td>\n",
       "      <td>0</td>\n",
       "      <td>1</td>\n",
       "      <td>...</td>\n",
       "      <td>0</td>\n",
       "      <td>0</td>\n",
       "      <td>0</td>\n",
       "      <td>0</td>\n",
       "      <td>0</td>\n",
       "      <td>0</td>\n",
       "      <td>0</td>\n",
       "      <td>0</td>\n",
       "      <td>1</td>\n",
       "      <td>0</td>\n",
       "    </tr>\n",
       "    <tr>\n",
       "      <th>1725</th>\n",
       "      <td>2017</td>\n",
       "      <td>5500</td>\n",
       "      <td>21.56</td>\n",
       "      <td>103.25</td>\n",
       "      <td>5.0</td>\n",
       "      <td>0</td>\n",
       "      <td>0</td>\n",
       "      <td>0</td>\n",
       "      <td>0</td>\n",
       "      <td>0</td>\n",
       "      <td>...</td>\n",
       "      <td>0</td>\n",
       "      <td>0</td>\n",
       "      <td>0</td>\n",
       "      <td>0</td>\n",
       "      <td>0</td>\n",
       "      <td>0</td>\n",
       "      <td>0</td>\n",
       "      <td>0</td>\n",
       "      <td>0</td>\n",
       "      <td>0</td>\n",
       "    </tr>\n",
       "  </tbody>\n",
       "</table>\n",
       "<p>5 rows × 53 columns</p>\n",
       "</div>"
      ],
      "text/plain": [
       "      Year  Kilometers_Driven  Mileage   Power  Seats  Location_Bangalore  \\\n",
       "6966  2009              49000    18.48  177.00    5.0                   0   \n",
       "2633  2014              48104    17.40  117.30    5.0                   0   \n",
       "6523  2013              54000    19.33  138.03    5.0                   0   \n",
       "6452  2014              75000    21.21  103.20    5.0                   0   \n",
       "1725  2017               5500    21.56  103.25    5.0                   0   \n",
       "\n",
       "      Location_Chennai  Location_Coimbatore  Location_Delhi  \\\n",
       "6966                 0                    0               0   \n",
       "2633                 0                    0               0   \n",
       "6523                 0                    0               0   \n",
       "6452                 0                    0               0   \n",
       "1725                 0                    0               0   \n",
       "\n",
       "      Location_Hyderabad  ...  Company_Nissan  Company_Opelcorsa  \\\n",
       "6966                   0  ...               0                  0   \n",
       "2633                   0  ...               0                  0   \n",
       "6523                   0  ...               0                  0   \n",
       "6452                   1  ...               0                  0   \n",
       "1725                   0  ...               0                  0   \n",
       "\n",
       "      Company_Porsche  Company_Renault  Company_Skoda  Company_Smart  \\\n",
       "6966                0                0              0              0   \n",
       "2633                0                0              0              0   \n",
       "6523                0                0              0              0   \n",
       "6452                0                0              0              0   \n",
       "1725                0                0              0              0   \n",
       "\n",
       "      Company_Tata  Company_Toyota  Company_Volkswagen  Company_Volvo  \n",
       "6966             0               0                   0              0  \n",
       "2633             0               0                   0              0  \n",
       "6523             0               0                   1              0  \n",
       "6452             0               0                   1              0  \n",
       "1725             0               0                   0              0  \n",
       "\n",
       "[5 rows x 53 columns]"
      ]
     },
     "execution_count": 44,
     "metadata": {},
     "output_type": "execute_result"
    }
   ],
   "source": [
    "x_train.head()"
   ]
  },
  {
   "cell_type": "markdown",
   "id": "578de64a-91d0-4692-93ef-5bbafa8f578d",
   "metadata": {
    "tags": []
   },
   "source": [
    "#  Feature Scalling\n",
    "1. Min Max scaller \n",
    "2. Standard Scaller"
   ]
  },
  {
   "cell_type": "code",
   "execution_count": 45,
   "id": "03df0910-cb45-46aa-8510-2c68d57d17a0",
   "metadata": {},
   "outputs": [],
   "source": [
    "from sklearn.preprocessing import MinMaxScaler \n",
    "scaler = MinMaxScaler()\n",
    "x_train = scaler.fit_transform(x_train)\n",
    "x_test = scaler.transform(x_test)"
   ]
  },
  {
   "cell_type": "markdown",
   "id": "42bbbfbd-86f1-4c19-a652-509bfc02f708",
   "metadata": {},
   "source": [
    "# Model Building"
   ]
  },
  {
   "cell_type": "code",
   "execution_count": 46,
   "id": "810609c9-bc81-4536-a884-f8a057a431c1",
   "metadata": {},
   "outputs": [
    {
     "data": {
      "text/plain": [
       "LinearRegression()"
      ]
     },
     "execution_count": 46,
     "metadata": {},
     "output_type": "execute_result"
    }
   ],
   "source": [
    "from sklearn.linear_model import LinearRegression\n",
    "lr= LinearRegression()\n",
    "lr.fit(x_train,y_train)"
   ]
  },
  {
   "cell_type": "code",
   "execution_count": 47,
   "id": "2854eba1-40b7-4a1f-8b4d-059d9bc51adb",
   "metadata": {},
   "outputs": [
    {
     "data": {
      "text/plain": [
       "63.665053378068095"
      ]
     },
     "execution_count": 47,
     "metadata": {},
     "output_type": "execute_result"
    }
   ],
   "source": [
    "lr.score(x_train,y_train)*100"
   ]
  },
  {
   "cell_type": "code",
   "execution_count": 48,
   "id": "8a99a551-66ac-4024-8c29-25a93ad78caa",
   "metadata": {},
   "outputs": [
    {
     "name": "stdout",
     "output_type": "stream",
     "text": [
      "Polynomial Model Score 81.46634255247386\n"
     ]
    }
   ],
   "source": [
    "from sklearn.preprocessing import PolynomialFeatures \n",
    "poly_reg = PolynomialFeatures()\n",
    "x_poly = poly_reg.fit_transform(x_train)\n",
    "p_reg = LinearRegression()\n",
    "p_reg.fit(x_poly,y_train)\n",
    "print('Polynomial Model Score', p_reg.score(x_poly,y_train)*100)"
   ]
  },
  {
   "cell_type": "markdown",
   "id": "71d9f0a4-ed2e-4524-a4b0-e79808099c4f",
   "metadata": {},
   "source": [
    "# Evaluating Model's Performance "
   ]
  },
  {
   "cell_type": "code",
   "execution_count": 49,
   "id": "a0d330a0-8708-4970-bdec-354373e4535d",
   "metadata": {},
   "outputs": [],
   "source": [
    "from sklearn import metrics \n",
    "y_pred = lr.predict(x_test)\n",
    "MAE = metrics.mean_absolute_error(y_test,y_pred)\n",
    "MSE = metrics.mean_squared_error(y_test,y_pred)\n",
    "RMSE = np.sqrt(MSE)\n",
    "R_squared_value = metrics.r2_score(y_test,y_pred)\n"
   ]
  },
  {
   "cell_type": "markdown",
   "id": "06065431-0294-4ea4-beee-76a7c1b6b3cb",
   "metadata": {},
   "source": [
    "# Adjusted R square value"
   ]
  },
  {
   "cell_type": "code",
   "execution_count": 50,
   "id": "8bd49b58-fcec-4ec4-95c2-133f714a9b83",
   "metadata": {},
   "outputs": [],
   "source": [
    "P = int(len(df.columns)-1)\n",
    "N = int(len(df))\n",
    "Adj_R_squared_Value =1 - ((1-R_squared_value)*(N - 1)/(N-P-1))"
   ]
  },
  {
   "cell_type": "code",
   "execution_count": 51,
   "id": "67904f3a-7b81-43f1-ae93-c29b2172dbbc",
   "metadata": {},
   "outputs": [
    {
     "data": {
      "text/plain": [
       "0.6722210157735959"
      ]
     },
     "execution_count": 51,
     "metadata": {},
     "output_type": "execute_result"
    }
   ],
   "source": [
    "Adj_R_squared_Value"
   ]
  },
  {
   "cell_type": "code",
   "execution_count": 52,
   "id": "4bcd7496-09ba-466d-ab1a-a065c9a94cab",
   "metadata": {},
   "outputs": [
    {
     "data": {
      "text/plain": [
       "3.15336900592843"
      ]
     },
     "execution_count": 52,
     "metadata": {},
     "output_type": "execute_result"
    }
   ],
   "source": [
    "MAE"
   ]
  },
  {
   "cell_type": "code",
   "execution_count": 53,
   "id": "3f6747b5-e019-4b5b-b7ae-48a258365a11",
   "metadata": {},
   "outputs": [
    {
     "data": {
      "text/plain": [
       "35.81020646052567"
      ]
     },
     "execution_count": 53,
     "metadata": {},
     "output_type": "execute_result"
    }
   ],
   "source": [
    "MSE"
   ]
  },
  {
   "cell_type": "code",
   "execution_count": 54,
   "id": "2e84b2df-6fa2-4c61-b165-4c8898f4727e",
   "metadata": {},
   "outputs": [
    {
     "data": {
      "text/plain": [
       "5.984162970752524"
      ]
     },
     "execution_count": 54,
     "metadata": {},
     "output_type": "execute_result"
    }
   ],
   "source": [
    "RMSE"
   ]
  },
  {
   "cell_type": "code",
   "execution_count": 55,
   "id": "66f17882-0da2-4dc3-9b69-37ed76c3c24c",
   "metadata": {},
   "outputs": [
    {
     "data": {
      "text/plain": [
       "0.6746171931755269"
      ]
     },
     "execution_count": 55,
     "metadata": {},
     "output_type": "execute_result"
    }
   ],
   "source": [
    "R_squared_value"
   ]
  }
 ],
 "metadata": {
  "kernelspec": {
   "display_name": "Python 3 (ipykernel)",
   "language": "python",
   "name": "python3"
  },
  "language_info": {
   "codemirror_mode": {
    "name": "ipython",
    "version": 3
   },
   "file_extension": ".py",
   "mimetype": "text/x-python",
   "name": "python",
   "nbconvert_exporter": "python",
   "pygments_lexer": "ipython3",
   "version": "3.9.12"
  }
 },
 "nbformat": 4,
 "nbformat_minor": 5
}
